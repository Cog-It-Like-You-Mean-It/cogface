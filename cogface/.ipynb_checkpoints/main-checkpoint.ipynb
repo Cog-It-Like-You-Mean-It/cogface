{
 "cells": [
  {
   "cell_type": "code",
   "execution_count": null,
   "id": "5160f285",
   "metadata": {},
   "outputs": [],
   "source": [
    "from database import Database"
   ]
  },
  {
   "cell_type": "code",
   "execution_count": null,
   "id": "f278a06b",
   "metadata": {},
   "outputs": [],
   "source": [
    "def cos_distance(descriptor_1, descriptor_2):\n",
    "    return 1 - descriptor_1 @ descriptor_2 / (np.linalg.norm(descriptor_1) * np.linalg.norm(descriptor_2))"
   ]
  },
  {
   "cell_type": "code",
   "execution_count": null,
   "id": "8dad91e1",
   "metadata": {},
   "outputs": [],
   "source": [
    "def find_match(descriptor):\n",
    "    "
   ]
  }
 ],
 "metadata": {
  "kernelspec": {
   "display_name": "Python 3",
   "language": "python",
   "name": "python3"
  },
  "language_info": {
   "codemirror_mode": {
    "name": "ipython",
    "version": 3
   },
   "file_extension": ".py",
   "mimetype": "text/x-python",
   "name": "python",
   "nbconvert_exporter": "python",
   "pygments_lexer": "ipython3",
   "version": "3.8.10"
  }
 },
 "nbformat": 4,
 "nbformat_minor": 5
}
