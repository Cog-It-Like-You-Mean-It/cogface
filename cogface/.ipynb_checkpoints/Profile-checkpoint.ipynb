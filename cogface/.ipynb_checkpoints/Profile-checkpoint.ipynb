{
 "cells": [
  {
   "cell_type": "code",
   "execution_count": 1,
   "id": "6d73dfb6",
   "metadata": {},
   "outputs": [],
   "source": [
    "import numpy as np\n",
    "class Profile:\n",
    "    def __init__(self, name):\n",
    "        self.name = name\n",
    "        self.descriptors = []\n",
    "        self.mean_descriptor = 0\n",
    "        \n",
    "    def add_descriptor(self, descriptor):\n",
    "        self.descriptors.append(descriptor)\n",
    "        self.mean_descriptor = np.mean(self.descriptors, axis=0)"
   ]
  },
  {
   "cell_type": "code",
   "execution_count": null,
   "id": "d2b1186a",
   "metadata": {},
   "outputs": [],
   "source": []
  }
 ],
 "metadata": {
  "kernelspec": {
   "display_name": "Python 3",
   "language": "python",
   "name": "python3"
  },
  "language_info": {
   "codemirror_mode": {
    "name": "ipython",
    "version": 3
   },
   "file_extension": ".py",
   "mimetype": "text/x-python",
   "name": "python",
   "nbconvert_exporter": "python",
   "pygments_lexer": "ipython3",
   "version": "3.8.10"
  }
 },
 "nbformat": 4,
 "nbformat_minor": 5
}
