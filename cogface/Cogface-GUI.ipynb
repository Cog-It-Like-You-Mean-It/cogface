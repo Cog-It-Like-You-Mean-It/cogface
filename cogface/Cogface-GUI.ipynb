{
 "cells": [
  {
   "cell_type": "code",
   "execution_count": 4,
   "id": "aa3d1efb",
   "metadata": {},
   "outputs": [],
   "source": [
    "import pickle\n",
    "import PySimpleGUI as sg\n",
    "import cogface as cf\n",
    "from Profile import Profile"
   ]
  },
  {
   "cell_type": "code",
   "execution_count": 5,
   "id": "ca34bc72",
   "metadata": {},
   "outputs": [],
   "source": [
    "cf.db.load_database()"
   ]
  },
  {
   "cell_type": "code",
   "execution_count": null,
   "id": "6391600a",
   "metadata": {},
   "outputs": [],
   "source": [
    "sg.theme('Python')\n",
    "\n",
    "layoutStart = [[sg.Button('Create New Database'), sg.Button('Load Database')],\n",
    "          [sg.Button('Close')]]\n",
    "windowStart = sg.Window('Cog*Face: Create or Load Database', layoutStart)\n",
    "while True:\n",
    "    event, values = windowStart.read()      \n",
    "    if event == sg.WIN_CLOSED or event == 'Close':\n",
    "        break\n",
    "    if event == 'Create New Database':\n",
    "        cf.db.create_database()\n",
    "        break\n",
    "    if event == 'Load Database':\n",
    "        cf.db.load_database()\n",
    "        break\n",
    "\n",
    "windowStart.close()\n",
    "\n",
    "if event != sg.WIN_CLOSED and event != 'Close':\n",
    "    layoutHome = [[sg.Button('Add Face'), sg.Button('Detect Faces')],\n",
    "                  [sg.Button('Close')]]\n",
    "    windowHome = sg.Window('Cog*Face: Function Select', layoutHome)\n",
    "\n",
    "    while True:\n",
    "        event, values = windowHome.read()\n",
    "        if event == sg.WIN_CLOSED or event == 'Close':\n",
    "            break\n",
    "        if event == 'Add Face':\n",
    "            layoutAdd = [[sg.Text('Select File'), sg.InputText('Face.jpg'), sg.FileBrowse()],\n",
    "                         [sg.Text('Input Person Name'), sg.InputText('Person')],\n",
    "                         [sg.Button('OK'), sg.Button('Cancel')]]\n",
    "            windowAdd = sg.Window('Cog*Face: Add Face', layoutAdd)\n",
    "            while True:\n",
    "                event, values = windowAdd.read()\n",
    "                if event == sg.WIN_CLOSED or event == 'Cancel':\n",
    "                    break\n",
    "                if event == 'OK':\n",
    "                    cz.add_image(values[1], values[0])\n",
    "                    break\n",
    "            windowAdd.close()\n",
    "        if event == 'Detect Faces':\n",
    "            layoutAdd = [[sg.Text('Import from Files'), sg.Text('Take a Picture')],\n",
    "                         [sg.Button('Cancel')]]\n",
    "            windowAdd = sg.Window('Cog*Face: Add Face', layoutAdd)\n",
    "            while True:\n",
    "                event, values = windowAdd.read()\n",
    "                if event == sg.WIN_CLOSED or event == 'Cancel':\n",
    "                    break\n",
    "                if event == 'Import from Files':\n",
    "                    layoutAdd = [[sg.Text('Select File'), sg.InputText('Image.jpg'), sg.FileBrowse()],\n",
    "                         [sg.Button('OK'), sg.Button('Cancel')]]\n",
    "                    windowAdd = sg.Window('Cog*Face: Add Face', layoutAdd)\n",
    "                    while True:\n",
    "                        event, values = windowAdd.read()\n",
    "                        if event == sg.WIN_CLOSED or event == 'Cancel':\n",
    "                            break\n",
    "                        if event == 'OK':\n",
    "                            cz.detect_from_file(values[0])\n",
    "                            break\n",
    "                    windowAdd.close()\n",
    "                    break\n",
    "                if event == 'Take a Picture':\n",
    "                    cf.detect_from_camera()\n",
    "                    break\n",
    "            windowAdd.close()"
   ]
  }
 ],
 "metadata": {
  "kernelspec": {
   "display_name": "Python 3",
   "language": "python",
   "name": "python3"
  },
  "language_info": {
   "codemirror_mode": {
    "name": "ipython",
    "version": 3
   },
   "file_extension": ".py",
   "mimetype": "text/x-python",
   "name": "python",
   "nbconvert_exporter": "python",
   "pygments_lexer": "ipython3",
   "version": "3.8.10"
  }
 },
 "nbformat": 4,
 "nbformat_minor": 5
}
